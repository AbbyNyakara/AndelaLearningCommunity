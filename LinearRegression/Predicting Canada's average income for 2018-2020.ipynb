{
 "cells": [
  {
   "cell_type": "markdown",
   "id": "0b83b10e",
   "metadata": {},
   "source": [
    "# SIMPLE LINEAR REGRESSION MODEL "
   ]
  },
  {
   "cell_type": "markdown",
   "id": "c0b66498",
   "metadata": {},
   "source": [
    "## Import the libraries "
   ]
  },
  {
   "cell_type": "markdown",
   "id": "c50d240c",
   "metadata": {},
   "source": [
    "This are the libraries that are used for data analysis and building Algorithms \n",
    "- The assignment is to use the data provided to predict the income for canada for the year 2020. "
   ]
  },
  {
   "cell_type": "code",
   "execution_count": 1,
   "id": "3a53b2e2",
   "metadata": {},
   "outputs": [],
   "source": [
    "import pandas as pd\n",
    "import numpy as np\n",
    "import matplotlib.pyplot as plt \n",
    "from sklearn import linear_model"
   ]
  },
  {
   "cell_type": "markdown",
   "id": "83cd1cd4",
   "metadata": {},
   "source": [
    "### Import the file "
   ]
  },
  {
   "cell_type": "code",
   "execution_count": 3,
   "id": "86e6ffe6",
   "metadata": {},
   "outputs": [
    {
     "data": {
      "text/html": [
       "<div>\n",
       "<style scoped>\n",
       "    .dataframe tbody tr th:only-of-type {\n",
       "        vertical-align: middle;\n",
       "    }\n",
       "\n",
       "    .dataframe tbody tr th {\n",
       "        vertical-align: top;\n",
       "    }\n",
       "\n",
       "    .dataframe thead th {\n",
       "        text-align: right;\n",
       "    }\n",
       "</style>\n",
       "<table border=\"1\" class=\"dataframe\">\n",
       "  <thead>\n",
       "    <tr style=\"text-align: right;\">\n",
       "      <th></th>\n",
       "      <th>year</th>\n",
       "      <th>per capita income (US$)</th>\n",
       "    </tr>\n",
       "  </thead>\n",
       "  <tbody>\n",
       "    <tr>\n",
       "      <th>0</th>\n",
       "      <td>1970</td>\n",
       "      <td>3399.299037</td>\n",
       "    </tr>\n",
       "    <tr>\n",
       "      <th>1</th>\n",
       "      <td>1971</td>\n",
       "      <td>3768.297935</td>\n",
       "    </tr>\n",
       "    <tr>\n",
       "      <th>2</th>\n",
       "      <td>1972</td>\n",
       "      <td>4251.175484</td>\n",
       "    </tr>\n",
       "    <tr>\n",
       "      <th>3</th>\n",
       "      <td>1973</td>\n",
       "      <td>4804.463248</td>\n",
       "    </tr>\n",
       "    <tr>\n",
       "      <th>4</th>\n",
       "      <td>1974</td>\n",
       "      <td>5576.514583</td>\n",
       "    </tr>\n",
       "  </tbody>\n",
       "</table>\n",
       "</div>"
      ],
      "text/plain": [
       "   year  per capita income (US$)\n",
       "0  1970              3399.299037\n",
       "1  1971              3768.297935\n",
       "2  1972              4251.175484\n",
       "3  1973              4804.463248\n",
       "4  1974              5576.514583"
      ]
     },
     "execution_count": 3,
     "metadata": {},
     "output_type": "execute_result"
    }
   ],
   "source": [
    "df = pd.read_csv('canada_per_capita_income.csv')  # This formula imports the data in csv format we need for the model \n",
    "df.head()                                         #The df.head() by default displays the first 5 rows of the data. \n",
    "\n",
    "# Note if you want to view more that the default 5 rows, you can specify that in the brackets e.g df.head(10)-for the first 10rows"
   ]
  },
  {
   "cell_type": "code",
   "execution_count": 5,
   "id": "4e371e0c",
   "metadata": {},
   "outputs": [
    {
     "data": {
      "text/html": [
       "<div>\n",
       "<style scoped>\n",
       "    .dataframe tbody tr th:only-of-type {\n",
       "        vertical-align: middle;\n",
       "    }\n",
       "\n",
       "    .dataframe tbody tr th {\n",
       "        vertical-align: top;\n",
       "    }\n",
       "\n",
       "    .dataframe thead th {\n",
       "        text-align: right;\n",
       "    }\n",
       "</style>\n",
       "<table border=\"1\" class=\"dataframe\">\n",
       "  <thead>\n",
       "    <tr style=\"text-align: right;\">\n",
       "      <th></th>\n",
       "      <th>year</th>\n",
       "      <th>per capita income (US$)</th>\n",
       "    </tr>\n",
       "  </thead>\n",
       "  <tbody>\n",
       "    <tr>\n",
       "      <th>42</th>\n",
       "      <td>2012</td>\n",
       "      <td>42665.25597</td>\n",
       "    </tr>\n",
       "    <tr>\n",
       "      <th>43</th>\n",
       "      <td>2013</td>\n",
       "      <td>42676.46837</td>\n",
       "    </tr>\n",
       "    <tr>\n",
       "      <th>44</th>\n",
       "      <td>2014</td>\n",
       "      <td>41039.89360</td>\n",
       "    </tr>\n",
       "    <tr>\n",
       "      <th>45</th>\n",
       "      <td>2015</td>\n",
       "      <td>35175.18898</td>\n",
       "    </tr>\n",
       "    <tr>\n",
       "      <th>46</th>\n",
       "      <td>2016</td>\n",
       "      <td>34229.19363</td>\n",
       "    </tr>\n",
       "  </tbody>\n",
       "</table>\n",
       "</div>"
      ],
      "text/plain": [
       "    year  per capita income (US$)\n",
       "42  2012              42665.25597\n",
       "43  2013              42676.46837\n",
       "44  2014              41039.89360\n",
       "45  2015              35175.18898\n",
       "46  2016              34229.19363"
      ]
     },
     "execution_count": 5,
     "metadata": {},
     "output_type": "execute_result"
    }
   ],
   "source": [
    "df.tail()    # Displays the last 5 rows of the dataset. "
   ]
  },
  {
   "cell_type": "markdown",
   "id": "b43a8953",
   "metadata": {},
   "source": [
    "## DATA CLEANING. \n",
    "- Before proceeding to creating any models, ensure that the data you are using for the model trainign and prediction does not contain any null values, duplicates etc. "
   ]
  },
  {
   "cell_type": "code",
   "execution_count": 6,
   "id": "ebd148e7",
   "metadata": {},
   "outputs": [
    {
     "data": {
      "text/plain": [
       "(47, 2)"
      ]
     },
     "execution_count": 6,
     "metadata": {},
     "output_type": "execute_result"
    }
   ],
   "source": [
    "df.shape    # This will show the number of rows(47) and columns(2) that the dataset has. This will come in handy as you will see."
   ]
  },
  {
   "cell_type": "code",
   "execution_count": 7,
   "id": "1f1de940",
   "metadata": {},
   "outputs": [
    {
     "name": "stdout",
     "output_type": "stream",
     "text": [
      "<class 'pandas.core.frame.DataFrame'>\n",
      "RangeIndex: 47 entries, 0 to 46\n",
      "Data columns (total 2 columns):\n",
      " #   Column                   Non-Null Count  Dtype  \n",
      "---  ------                   --------------  -----  \n",
      " 0   year                     47 non-null     int64  \n",
      " 1   per capita income (US$)  47 non-null     float64\n",
      "dtypes: float64(1), int64(1)\n",
      "memory usage: 880.0 bytes\n"
     ]
    }
   ],
   "source": [
    "df.info()  #The .info() method shows how the data looks like. How many rows per column actually have values in them "
   ]
  },
  {
   "cell_type": "code",
   "execution_count": 9,
   "id": "29c2319a",
   "metadata": {},
   "outputs": [
    {
     "data": {
      "text/plain": [
       "year                       0\n",
       "per capita income (US$)    0\n",
       "dtype: int64"
      ]
     },
     "execution_count": 9,
     "metadata": {},
     "output_type": "execute_result"
    }
   ],
   "source": [
    "# For a quick review, you can also find the sum of the null rows for each column using the sum() and isnull() methods. \n",
    "# As you can see, the dataset does not contain any null values and as a result, we can proceed with the model training.\n",
    "df.isnull().sum()   "
   ]
  },
  {
   "cell_type": "markdown",
   "id": "af25fccd",
   "metadata": {},
   "source": [
    "## Visualizations - for the general outlook of the dataset "
   ]
  },
  {
   "cell_type": "markdown",
   "id": "be0c7832",
   "metadata": {},
   "source": [
    "To start off the visualizations, you have to have an idea of what exactly you are plotting. \n",
    "What you are trying to predict (in this case the Income) should always go on the y- axis and the feature(independent variable) should go on the x-axis. \n",
    "\n",
    "Steps to follow:\n",
    "1. Get an idea of the column names. (In this case they are only two as we are only using the year info to predict the income)"
   ]
  },
  {
   "cell_type": "code",
   "execution_count": 11,
   "id": "b0da5462",
   "metadata": {},
   "outputs": [
    {
     "data": {
      "text/plain": [
       "Index(['year', 'per capita income (US$)'], dtype='object')"
      ]
     },
     "execution_count": 11,
     "metadata": {},
     "output_type": "execute_result"
    }
   ],
   "source": [
    "df.columns   # calling .columns will display the names of the columns in the dataset. "
   ]
  },
  {
   "cell_type": "markdown",
   "id": "1a243795",
   "metadata": {},
   "source": [
    "When working with python, The spaces in (per capita income (US$)) column name will throw an error when trying to plot a scatter plot. This is because variable names should not have spaces. One way to deal with this would be to replace the spaces with an underscore. The syntax would look as shown below. \n",
    "\n",
    "db.columns.str.replace(' ', '_')\n",
    "\n",
    "Alternatively, You can create a list with new column names and assign that to db.columns. Thats the approach i will use for this example. "
   ]
  },
  {
   "cell_type": "code",
   "execution_count": 14,
   "id": "6b021bf0",
   "metadata": {},
   "outputs": [],
   "source": [
    "col_names = ['year', 'income']  # Alternatively create a list of the new column names and assign them to your new columns \n",
    "\n",
    "# However, this can be a bit tedious if you have very many columns in your dataset"
   ]
  },
  {
   "cell_type": "code",
   "execution_count": 15,
   "id": "065ab5f4",
   "metadata": {},
   "outputs": [
    {
     "data": {
      "text/plain": [
       "Index(['year', 'income'], dtype='object')"
      ]
     },
     "execution_count": 15,
     "metadata": {},
     "output_type": "execute_result"
    }
   ],
   "source": [
    "df.columns = col_names    # Assign the column names to df.columns \n",
    "df.columns"
   ]
  },
  {
   "cell_type": "code",
   "execution_count": 16,
   "id": "b6edf9b9",
   "metadata": {},
   "outputs": [
    {
     "data": {
      "text/plain": [
       "<matplotlib.collections.PathCollection at 0x2d0d02ea760>"
      ]
     },
     "execution_count": 16,
     "metadata": {},
     "output_type": "execute_result"
    },
    {
     "data": {
      "image/png": "[encoded data removed]",
      "text/plain": [
       "<Figure size 432x288 with 1 Axes>"
      ]
     },
     "metadata": {
      "needs_background": "light"
     },
     "output_type": "display_data"
    }
   ],
   "source": [
    "# Now using the new column names, use the matplotlib library to draw the scatter plot. Matplotlib is a visualization library\n",
    "# The method will require 2 inputs the x and y.  df.year(will display the data for all years) and the same for df.income\n",
    "\n",
    "\n",
    "plt.scatter(df.year, df.income)"
   ]
  },
  {
   "cell_type": "markdown",
   "id": "943412c4",
   "metadata": {},
   "source": [
    "#### The above is the default way the scatter plot appears when drawn. However, as you can see, there are some things that need improvement \n",
    "\n",
    "The graph has no title\n",
    "The x-axis and y-axis are not labelled. It is hard for soeone to tell what is being plotted. \n",
    "The style of points and the colors of the graph can also be changed if you dont like the default style too"
   ]
  },
  {
   "cell_type": "code",
   "execution_count": 17,
   "id": "9faa7050",
   "metadata": {},
   "outputs": [
    {
     "data": {
      "text/plain": [
       "<matplotlib.collections.PathCollection at 0x2d0d03be280>"
      ]
     },
     "execution_count": 17,
     "metadata": {},
     "output_type": "execute_result"
    },
    {
     "data": {
      "image/png": "[encoded data removed]",
      "text/plain": [
       "<Figure size 432x288 with 1 Axes>"
      ]
     },
     "metadata": {
      "needs_background": "light"
     },
     "output_type": "display_data"
    }
   ],
   "source": [
    "plt.title('Year VS Income for Canada')                           # Will give the graph a title\n",
    "plt.xlabel('year')                                               # Will label the x-axis\n",
    "plt.ylabel('per capita income(US$)')                             #Will label the y-axis\n",
    "plt.scatter(df.year, df.income, color='purple', marker = 'x') #The data on x-axis, y-axis, the color of the points and the style"
   ]
  },
  {
   "cell_type": "markdown",
   "id": "3799958d",
   "metadata": {},
   "source": [
    " From the new improved graph, we can see that the dataset is somewhat good for a linear model/regression model"
   ]
  },
  {
   "cell_type": "markdown",
   "id": "9b2717d0",
   "metadata": {},
   "source": [
    "## MODEL TRAINING AND USING THE MODEL FOR PREDICTION"
   ]
  },
  {
   "cell_type": "code",
   "execution_count": 22,
   "id": "34b3cbcc",
   "metadata": {},
   "outputs": [],
   "source": [
    "model = linear_model.LinearRegression()\n",
    "#What this part of the code does is to select the kind of model we want to use.\n",
    "#Besides, this will also direct the model what formulas to implement for the model training"
   ]
  },
  {
   "cell_type": "markdown",
   "id": "ef11bc95",
   "metadata": {},
   "source": [
    "## Model Fitting\n",
    "\n",
    "- When speaking of fitting a model, this is the same as training/teaching a model. So far, we have selected the kind of model(formula) we would like to implement and the next thing is to give it data so it can calculate the line of best fit(refer to blog) and the constant. \n",
    "- For this particular model, the model will produce a line that best fits all the data points that we have given it. Using theis line, we can extrapolate it to make predictions. "
   ]
  },
  {
   "cell_type": "code",
   "execution_count": 23,
   "id": "3c4da735",
   "metadata": {},
   "outputs": [
    {
     "data": {
      "text/plain": [
       "LinearRegression()"
      ]
     },
     "execution_count": 23,
     "metadata": {},
     "output_type": "execute_result"
    }
   ],
   "source": [
    "model.fit(df[['year']], df.income) "
   ]
  },
  {
   "cell_type": "markdown",
   "id": "f17838ac",
   "metadata": {},
   "source": [
    "### Model-Prediction\n",
    "\n",
    "Using the model that has been trained, we can now use that to make predictions \n",
    "THINGS TO NOTE:\n",
    "1. The method from the sklearn library we will use is the predict() that will take an input of what youre trying to predict. \n",
    "    For this case, we want to predict the income for the year 2020\n",
    "2. This will be passed into a numpy array. Which is basically a collection of data. \n",
    "3. For this to run, the data has to be in rows and columns. But for now it is only a digit(2020). By calling the .reshape(-1,1),    it will transform this from a single data point to tabular form, which is then in the right format to run in a model. "
   ]
  },
  {
   "cell_type": "code",
   "execution_count": 25,
   "id": "6677ee2b",
   "metadata": {
    "scrolled": true
   },
   "outputs": [
    {
     "data": {
      "text/plain": [
       "array([41288.69409442])"
      ]
     },
     "execution_count": 25,
     "metadata": {},
     "output_type": "execute_result"
    }
   ],
   "source": [
    "model.predict(np.array(2020).reshape(-1,1))  "
   ]
  },
  {
   "cell_type": "markdown",
   "id": "8fd21646",
   "metadata": {},
   "source": [
    "#### This model is based on the mathematical formula Y = MX + B\n",
    " Y - is the target variable/whatwe are trying to predict , m is the slope/gradient(coefficient) of the graph, X is the independent variable(year) and B is the constant \n"
   ]
  },
  {
   "cell_type": "code",
   "execution_count": 26,
   "id": "15002212",
   "metadata": {},
   "outputs": [
    {
     "data": {
      "text/plain": [
       "array([828.46507522])"
      ]
     },
     "execution_count": 26,
     "metadata": {},
     "output_type": "execute_result"
    }
   ],
   "source": [
    "model.coef_  # This is the coefficient(slope of the graph)"
   ]
  },
  {
   "cell_type": "code",
   "execution_count": 27,
   "id": "eb714089",
   "metadata": {},
   "outputs": [
    {
     "data": {
      "text/plain": [
       "-1632210.7578554575"
      ]
     },
     "execution_count": 27,
     "metadata": {},
     "output_type": "execute_result"
    }
   ],
   "source": [
    "model.intercept_    # This is the constant"
   ]
  },
  {
   "cell_type": "code",
   "execution_count": 28,
   "id": "b85cc957",
   "metadata": {},
   "outputs": [
    {
     "data": {
      "text/plain": [
       "41288.694088942604"
      ]
     },
     "execution_count": 28,
     "metadata": {},
     "output_type": "execute_result"
    }
   ],
   "source": [
    "## To understand how the model came up with the income \n",
    "## use the y = mx + c . y represents the income \n",
    "income = 828.46507522*2020+-1632210.7578554575\n",
    "income                                    "
   ]
  },
  {
   "cell_type": "markdown",
   "id": "97313fe8",
   "metadata": {},
   "source": [
    "#### THE MODEL PREDICTS AN INCOME OF 41288.694088942604 FOR 2020. "
   ]
  },
  {
   "cell_type": "markdown",
   "id": "62bf0e68",
   "metadata": {},
   "source": [
    "## Show the plot complete with the line of best fit generated by the model."
   ]
  },
  {
   "cell_type": "code",
   "execution_count": 30,
   "id": "5a66e4db",
   "metadata": {},
   "outputs": [
    {
     "data": {
      "text/plain": [
       "[<matplotlib.lines.Line2D at 0x2d0d0bb7fd0>]"
      ]
     },
     "execution_count": 30,
     "metadata": {},
     "output_type": "execute_result"
    },
    {
     "data": {
      "image/png": "[encoded data removed]",
      "text/plain": [
       "<Figure size 432x288 with 1 Axes>"
      ]
     },
     "metadata": {
      "needs_background": "light"
     },
     "output_type": "display_data"
    }
   ],
   "source": [
    "plt.scatter(df.year, df.income, color = 'purple', marker='x')\n",
    "\n",
    "plt.plot(df.year, model.predict(df[['year']]), color = 'blue' )  \n",
    "# The inputs above representthe year, and what is predicted by the model."
   ]
  }
 ],
 "metadata": {
  "kernelspec": {
   "display_name": "Python 3",
   "language": "python",
   "name": "python3"
  },
  "language_info": {
   "codemirror_mode": {
    "name": "ipython",
    "version": 3
   },
   "file_extension": ".py",
   "mimetype": "text/x-python",
   "name": "python",
   "nbconvert_exporter": "python",
   "pygments_lexer": "ipython3",
   "version": "3.8.8"
  }
 },
 "nbformat": 4,
 "nbformat_minor": 5
}
